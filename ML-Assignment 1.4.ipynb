{
 "cells": [
  {
   "cell_type": "code",
   "execution_count": 5,
   "id": "d7c28547",
   "metadata": {},
   "outputs": [
    {
     "name": "stdout",
     "output_type": "stream",
     "text": [
      "length of it_companies :  4\n",
      "it_companies after appending twitter : {'Facebook', 'Google', 'Twitter', 'Apple', 'IBM'}\n",
      "it_companies after appending multiple companies : {'TCS', 'deloitte', 'Facebook', 'Google', 'Twitter', 'Apple', 'IBM'}\n",
      "it_companies after removing one company :  {'TCS', 'deloitte', 'Facebook', 'Google', 'Apple', 'IBM'}\n",
      "joining A and B gives : {19, 20, 22, 24, 25, 26, 27, 28}\n",
      "Intersection of A and B is: {19, 20, 22, 24, 25, 26}\n",
      "A and B are not disjoint sets\n",
      "A join B is :  {19, 20, 22, 24, 25, 26, 27, 28}\n",
      "B join A is :  {19, 20, 22, 24, 25, 26, 27, 28}\n",
      "symmetric difference between A and B is: {27, 28}\n",
      "length of ages list is : 8\n",
      "length of ages set is : 5\n",
      "length of ages list greater than the age set\n"
     ]
    }
   ],
   "source": [
    "# given list of it companies\n",
    "it_companies = {\"Facebook\",\"Google\",\"IBM\",\"Apple\"}\n",
    "A = {19,22,24,20,25,26}\n",
    "B = {19,22,20,25,26,24,28,27}\n",
    "age = [22,19,24,25,26,24,25,24]\n",
    "#Printing the length of it_companies\n",
    "print(\"length of it_companies : \",len(it_companies))\n",
    "# adding twitter to it_companies\n",
    "it_companies.add(\"Twitter\")\n",
    "print(\"it_companies after appending twitter :\", it_companies)\n",
    "# inserting multiple it companies\n",
    "companies = [\"deloitte\",\"TCS\"]\n",
    "it_companies.update(companies)\n",
    "print(\"it_companies after appending multiple companies :\", it_companies)\n",
    "# removing one company\n",
    "it_companies.remove(\"Twitter\")\n",
    "print(\"it_companies after removing one company : \",it_companies)\n",
    "# Difference between remove and discard\n",
    "#The remove() method will raise an error if the specified item does not exit , and the discard() method will not raise error.\n",
    "# joining A and B\n",
    "C = A.union(B)\n",
    "print(\"joining A and B gives :\",C)\n",
    "#finding A intersection B\n",
    "I = A.intersection(B)\n",
    "print(\"Intersection of A and B is:\", I)\n",
    "#checking are A and B are disjoint sets\n",
    "check1 = A.isdisjoint(B)\n",
    "if check1:\n",
    "    print(\"A and B are disjoint sets\")\n",
    "else:\n",
    "    print(\"A and B are not disjoint sets\")\n",
    "#joint A with B and B with A\n",
    "A_join_B = A.union(B)\n",
    "B_join_A = B.union(A)\n",
    "print(\"A join B is : \",A_join_B)\n",
    "print(\"B join A is : \",B_join_A)\n",
    "#symetric difference between A and B\n",
    "D = A.symmetric_difference(B)\n",
    "print(\"symmetric difference between A and B is:\",D)\n",
    "#delete all the sets\n",
    "it_companies.clear()\n",
    "A.clear()\n",
    "B.clear()\n",
    "#converting ages list to set\n",
    "age_set= set(age)\n",
    "print(\"length of ages list is :\", len(age))\n",
    "print(\"length of ages set is :\",len(age_set))\n",
    "print(\"length of ages list greater than the age set\")\n"
   ]
  },
  {
   "cell_type": "code",
   "execution_count": null,
   "id": "71fbc006",
   "metadata": {},
   "outputs": [],
   "source": []
  },
  {
   "cell_type": "code",
   "execution_count": null,
   "id": "716a4b65",
   "metadata": {},
   "outputs": [],
   "source": []
  }
 ],
 "metadata": {
  "kernelspec": {
   "display_name": "Python 3 (ipykernel)",
   "language": "python",
   "name": "python3"
  },
  "language_info": {
   "codemirror_mode": {
    "name": "ipython",
    "version": 3
   },
   "file_extension": ".py",
   "mimetype": "text/x-python",
   "name": "python",
   "nbconvert_exporter": "python",
   "pygments_lexer": "ipython3",
   "version": "3.11.1"
  }
 },
 "nbformat": 4,
 "nbformat_minor": 5
}
