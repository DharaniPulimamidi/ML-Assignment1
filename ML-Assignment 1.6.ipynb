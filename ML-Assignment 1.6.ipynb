{
 "cells": [
  {
   "cell_type": "code",
   "execution_count": 4,
   "id": "745be3e9",
   "metadata": {},
   "outputs": [
    {
     "name": "stdout",
     "output_type": "stream",
     "text": [
      "53\n",
      "['I', 'am', 'a', 'teacher', 'and', 'I', 'love', 'to', 'inspire', 'and', 'teach', 'people']\n",
      "{'inspire', 'and', 'love', 'to', 'people', 'a', 'I', 'am', 'teacher', 'teach'}\n"
     ]
    }
   ],
   "source": [
    "# given string to the variable a \n",
    "a = \"I am a teacher and I love to inspire and teach people\"\n",
    "count=len(a)\n",
    "#printing the number of words\n",
    "print(count)\n",
    "#Spliting the string\n",
    "b=a.split()\n",
    "print(b)\n",
    "#using set to remove duplicates\n",
    "set1=set(b)\n",
    "#Printing set1\n",
    "print(set1)"
   ]
  }
 ],
 "metadata": {
  "kernelspec": {
   "display_name": "Python 3 (ipykernel)",
   "language": "python",
   "name": "python3"
  },
  "language_info": {
   "codemirror_mode": {
    "name": "ipython",
    "version": 3
   },
   "file_extension": ".py",
   "mimetype": "text/x-python",
   "name": "python",
   "nbconvert_exporter": "python",
   "pygments_lexer": "ipython3",
   "version": "3.11.1"
  }
 },
 "nbformat": 4,
 "nbformat_minor": 5
}
