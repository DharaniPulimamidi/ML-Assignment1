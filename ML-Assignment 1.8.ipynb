{
 "cells": [
  {
   "cell_type": "code",
   "execution_count": 1,
   "id": "c29402c7",
   "metadata": {},
   "outputs": [
    {
     "name": "stdout",
     "output_type": "stream",
     "text": [
      "The area of circle using with radius 10 is 314.0 meters square\n"
     ]
    }
   ],
   "source": [
    "#assigned variable radius\n",
    "radius=10\n",
    "#assigned area of circle formula\n",
    "area=3.14 * radius **2\n",
    "#print the output using string format\n",
    "print(\"The area of circle using with radius {} is {} meters square\".format(radius,area))"
   ]
  }
 ],
 "metadata": {
  "kernelspec": {
   "display_name": "Python 3 (ipykernel)",
   "language": "python",
   "name": "python3"
  },
  "language_info": {
   "codemirror_mode": {
    "name": "ipython",
    "version": 3
   },
   "file_extension": ".py",
   "mimetype": "text/x-python",
   "name": "python",
   "nbconvert_exporter": "python",
   "pygments_lexer": "ipython3",
   "version": "3.11.1"
  }
 },
 "nbformat": 4,
 "nbformat_minor": 5
}
