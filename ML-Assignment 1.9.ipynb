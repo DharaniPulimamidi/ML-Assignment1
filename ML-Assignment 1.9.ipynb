{
 "cells": [
  {
   "cell_type": "code",
   "execution_count": 5,
   "id": "4ab973f9",
   "metadata": {},
   "outputs": [
    {
     "name": "stdout",
     "output_type": "stream",
     "text": [
      "Enter the number of students: 3\n",
      "Enter weights in lbs for students 1: 55\n",
      "Enter weights in lbs for students 2: 45\n",
      "Enter weights in lbs for students 3: 57\n",
      "weights in kilograms :  [24.94756, 20.41164, 25.854744]\n"
     ]
    }
   ],
   "source": [
    "# function to convert weight in lbs to kilograms\n",
    "def lbs_to_kilograms(weight):\n",
    "    return weight * 0.453592\n",
    "#number of students\n",
    "n = int(input(\"Enter the number of students: \"))\n",
    "#list to store weights in lbs\n",
    "weights_lbs = []\n",
    "#loop to get weights in lbs from user\n",
    "for i in range(n):\n",
    "    weight = float(input(\"Enter weights in lbs for students {}: \".format(i+1)))\n",
    "    weights_lbs.append(weight)\n",
    "weights_kilograms = []\n",
    "#loop to convert weights from lbs to kilograms\n",
    "for weight in weights_lbs:\n",
    "    weight_kg = lbs_to_kilograms(weight)\n",
    "    weights_kilograms.append(weight_kg)\n",
    "#printing weights\n",
    "print(\"weights in kilograms : \", weights_kilograms)"
   ]
  }
 ],
 "metadata": {
  "kernelspec": {
   "display_name": "Python 3 (ipykernel)",
   "language": "python",
   "name": "python3"
  },
  "language_info": {
   "codemirror_mode": {
    "name": "ipython",
    "version": 3
   },
   "file_extension": ".py",
   "mimetype": "text/x-python",
   "name": "python",
   "nbconvert_exporter": "python",
   "pygments_lexer": "ipython3",
   "version": "3.11.1"
  }
 },
 "nbformat": 4,
 "nbformat_minor": 5
}
