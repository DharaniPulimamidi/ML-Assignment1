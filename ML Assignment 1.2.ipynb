{
 "cells": [
  {
   "cell_type": "code",
   "execution_count": 5,
   "id": "35e89c7c",
   "metadata": {},
   "outputs": [
    {
     "name": "stdout",
     "output_type": "stream",
     "text": [
      "Dog dictionary is :  {'Name': 'Bruno', 'Color': 'Brown', 'Breed': 'Labrador', 'legs': 4, 'Age': 11}\n",
      "\n",
      "Student dictionary is :  {'first_name': 'Dharani', 'last_name': 'Pulimamidi', 'Gender': 'Female', 'Age': 21, 'Martial status': 'single', 'Skills': ['Python', 'C++', 'AWS'], 'Country': 'India', 'City': 'Hyderabad', 'Address': 'Indira Nagar'}\n",
      "length of student dictionary is :  9\n",
      "student skills are : ['Python', 'C++', 'AWS']\n",
      "type of student skills is :  <class 'list'>\n",
      "modified student skills :  ['Python', 'C++', 'AWS', 'Skill A', 'Skill B']\n",
      "dog dictionary keys :  ['Name', 'Color', 'Breed', 'legs', 'Age']\n",
      "student dictionary keys :  ['first_name', 'last_name', 'Gender', 'Age', 'Martial status', 'Skills', 'Country', 'City', 'Address']\n",
      "dog dictionary values :  ['Bruno', 'Brown', 'Labrador', 4, 11]\n",
      "student dictionary values :  ['Dharani', 'Pulimamidi', 'Female', 21, 'single', ['Python', 'C++', 'AWS', 'Skill A', 'Skill B'], 'India', 'Hyderabad', 'Indira Nagar']\n"
     ]
    }
   ],
   "source": [
    "#creating dog dictionary\n",
    "dog=dict()\n",
    "# Addding name,color,breed,legs,age to dictionary\n",
    "dog[\"Name\"]=\"Bruno\"\n",
    "dog[\"Color\"]=\"Brown\"\n",
    "dog[\"Breed\"]=\"Labrador\"\n",
    "dog[\"legs\"]=4\n",
    "dog[\"Age\"]=11\n",
    "#Printing Dog Dictionary\n",
    "print(\"Dog dictionary is : \",dog)\n",
    "#creating student dictionary\n",
    "student=dict()\n",
    "student[\"first_name\"]=\"Dharani\"\n",
    "student[\"last_name\"]=\"Pulimamidi\"\n",
    "student[\"Gender\"]=\"Female\"\n",
    "student[\"Age\"]= 21\n",
    "student[\"Martial status\"]=\"single\"\n",
    "student[\"Skills\"]=[\"Python\",\"C++\",\"AWS\"]\n",
    "student[\"Country\"]=\"India\"\n",
    "student[\"City\"]=\"Hyderabad\"\n",
    "student[\"Address\"]=\"Indira Nagar\"\n",
    "#Printing student dictionary\n",
    "print(\"Student dictionary is : \",student)\n",
    "# length of student dictionary\n",
    "print(\"length of student dictionary is : \",str(len(student)));\n",
    "# value of student skills and datatype\n",
    "print(\"student skills are : \",end='')\n",
    "print(student[\"Skills\"])\n",
    "print(\"type of student skills is : \",type(student[\"Skills\"]))\n",
    "#modifying student skills\n",
    "student[\"Skills\"].append(\"Skill A\")\n",
    "student[\"Skills\"].append(\"Skill B\")\n",
    "print(\"modified student skills : \",student[\"Skills\"])\n",
    "#getting dictionary keys as list\n",
    "dog_keys=list(dog.keys())\n",
    "print(\"dog dictionary keys : \",dog_keys)\n",
    "student_keys=list(student.keys())\n",
    "print(\"student dictionary keys : \",student_keys)\n",
    "#getting dictionary values as list\n",
    "dog_values=list(dog.values())\n",
    "print(\"dog dictionary values : \", dog_values)\n",
    "student_values=list(student.values())\n",
    "print(\"student dictionary values : \",student_values)"
   ]
  },
  {
   "cell_type": "code",
   "execution_count": null,
   "id": "06584571",
   "metadata": {},
   "outputs": [],
   "source": [
    "_"
   ]
  }
 ],
 "metadata": {
  "kernelspec": {
   "display_name": "Python 3 (ipykernel)",
   "language": "python",
   "name": "python3"
  },
  "language_info": {
   "codemirror_mode": {
    "name": "ipython",
    "version": 3
   },
   "file_extension": ".py",
   "mimetype": "text/x-python",
   "name": "python",
   "nbconvert_exporter": "python",
   "pygments_lexer": "ipython3",
   "version": "3.11.1"
  }
 },
 "nbformat": 4,
 "nbformat_minor": 5
}
