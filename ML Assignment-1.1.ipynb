{
 "cells": [
  {
   "cell_type": "code",
   "execution_count": 1,
   "id": "706005f2",
   "metadata": {},
   "outputs": [
    {
     "name": "stdout",
     "output_type": "stream",
     "text": [
      "19\n",
      "26\n",
      "24.0\n",
      "22\n",
      "7\n"
     ]
    }
   ],
   "source": [
    "#Given list\n",
    "ages=[19,22,19,24,20,25,26,24,25,24]\n",
    "#Sorting the list\n",
    "ages.sort()\n",
    "#finding min and max age\n",
    "minAge= min(ages)\n",
    "maxAge=max(ages)\n",
    "#Appending minAge and maxAge\n",
    "ages.append(minAge)\n",
    "ages.append(maxAge)\n",
    "ages.sort()\n",
    "length = len(ages)\n",
    "#Finding medianAge\n",
    "medianAge = ages[(length+1)//2] if length%2==1 else (ages[length//2+1])/2+ages[(length//2)+1]/2\n",
    "#Finding average sum of ages\n",
    "sumofAges = sum(ages)\n",
    "averageofAges = sumofAges//length\n",
    "#Finding range of ages\n",
    "rangeofAges = maxAge-minAge\n",
    "#Printing the values\n",
    "print(minAge)\n",
    "print(maxAge)\n",
    "print(medianAge)\n",
    "print(averageofAges)\n",
    "print(rangeofAges)"
   ]
  },
  {
   "cell_type": "code",
   "execution_count": null,
   "id": "c5fb9d0e",
   "metadata": {},
   "outputs": [],
   "source": []
  }
 ],
 "metadata": {
  "kernelspec": {
   "display_name": "Python 3 (ipykernel)",
   "language": "python",
   "name": "python3"
  },
  "language_info": {
   "codemirror_mode": {
    "name": "ipython",
    "version": 3
   },
   "file_extension": ".py",
   "mimetype": "text/x-python",
   "name": "python",
   "nbconvert_exporter": "python",
   "pygments_lexer": "ipython3",
   "version": "3.11.1"
  }
 },
 "nbformat": 4,
 "nbformat_minor": 5
}
