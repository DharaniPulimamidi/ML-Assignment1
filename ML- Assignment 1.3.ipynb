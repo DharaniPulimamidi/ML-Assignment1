{
 "cells": [
  {
   "cell_type": "code",
   "execution_count": 1,
   "id": "fbf5030e",
   "metadata": {},
   "outputs": [
    {
     "name": "stdout",
     "output_type": "stream",
     "text": [
      "brothers are :  ('Subbu', 'Vishnu')\n",
      "sisters are :  ('Supriya', 'Lekha')\n",
      "siblings are :  ('Subbu', 'Vishnu', 'Supriya', 'Lekha')\n",
      "number of siblings are :  4\n",
      "family members are :  ('Amar', 'Kalyani', 'Subbu', 'Vishnu', 'Supriya', 'Lekha')\n"
     ]
    }
   ],
   "source": [
    "#creating tuples brother and sister\n",
    "sisters=(\"Supriya\",\"Lekha\")\n",
    "brothers=(\"Subbu\",\"Vishnu\")\n",
    "#Printing brothers and sisters\n",
    "print(\"brothers are : \",brothers)\n",
    "print(\"sisters are : \",sisters)\n",
    "#joining brothers and sisters tuples to siblings\n",
    "siblings=brothers + sisters \n",
    "print(\"siblings are : \",siblings)\n",
    "#number of siblings \n",
    "print(\"number of siblings are : \",len(siblings))\n",
    "#modifying siblings tuple by adding father name and mother name\n",
    "family_members=(\"Amar\",\"Kalyani\")+siblings\n",
    "print(\"family members are : \",family_members)\n"
   ]
  }
 ],
 "metadata": {
  "kernelspec": {
   "display_name": "Python 3 (ipykernel)",
   "language": "python",
   "name": "python3"
  },
  "language_info": {
   "codemirror_mode": {
    "name": "ipython",
    "version": 3
   },
   "file_extension": ".py",
   "mimetype": "text/x-python",
   "name": "python",
   "nbconvert_exporter": "python",
   "pygments_lexer": "ipython3",
   "version": "3.11.1"
  }
 },
 "nbformat": 4,
 "nbformat_minor": 5
}
