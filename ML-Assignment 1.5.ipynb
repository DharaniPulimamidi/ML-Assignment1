{
 "cells": [
  {
   "cell_type": "code",
   "execution_count": 1,
   "id": "e3ab60d1",
   "metadata": {},
   "outputs": [
    {
     "name": "stdout",
     "output_type": "stream",
     "text": [
      "area of circle :  2826.0\n",
      "circumference of circle : 190.2\n",
      "4\n",
      "Area of circle with the user input : 50.24\n"
     ]
    }
   ],
   "source": [
    "#Given radius of circle 30 meters\n",
    "r = 30\n",
    "#assigned variable name \"_area _of_circle\"\n",
    "_area_of_circle=3.14*(r**2)\n",
    "#printing the stored value in variable\n",
    "print(\"area of circle : \",_area_of_circle)\n",
    "#circumference of circle\n",
    "#assigned variable name \"_circum_of_circle\n",
    "_circum_of_circle=2*3.17*r\n",
    "#printing the value\n",
    "print(\"circumference of circle :\",_circum_of_circle)\n",
    "#area of circle for user input\n",
    "#taking the user input\n",
    "n=int(input())\n",
    "#assigned variable name \"area\"\n",
    "area=3.14*(n**2)\n",
    "#printing the value\n",
    "print(\"Area of circle with the user input :\",area)"
   ]
  },
  {
   "cell_type": "code",
   "execution_count": null,
   "id": "3d60978f",
   "metadata": {},
   "outputs": [],
   "source": []
  }
 ],
 "metadata": {
  "kernelspec": {
   "display_name": "Python 3 (ipykernel)",
   "language": "python",
   "name": "python3"
  },
  "language_info": {
   "codemirror_mode": {
    "name": "ipython",
    "version": 3
   },
   "file_extension": ".py",
   "mimetype": "text/x-python",
   "name": "python",
   "nbconvert_exporter": "python",
   "pygments_lexer": "ipython3",
   "version": "3.11.1"
  }
 },
 "nbformat": 4,
 "nbformat_minor": 5
}
